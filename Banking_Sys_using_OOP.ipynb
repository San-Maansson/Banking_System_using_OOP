{
 "cells": [
  {
   "cell_type": "code",
   "execution_count": 1,
   "metadata": {},
   "outputs": [],
   "source": [
    "#Banking System using OOP\n",
    "\n",
    "\n",
    "#Parent Class : User\n",
    "#Holds details about a user\n",
    "#Has a function to show user details\n",
    "\n",
    "#Child Class : Bank\n",
    "#Stores details about the account balance\n",
    "#Stores details about the amount\n",
    "#Allows for deposits, withdraw, view_balance\n",
    "\n",
    "\n",
    "import numpy as np\n",
    "import pandas as pd"
   ]
  },
  {
   "cell_type": "code",
   "execution_count": 13,
   "metadata": {},
   "outputs": [
    {
     "name": "stdout",
     "output_type": "stream",
     "text": [
      "Account balance has been updated : $ 200\n",
      "Johan\n",
      "20\n",
      "Male\n",
      "200\n",
      "\n",
      "Personal Details:\n",
      "Name Johan\n",
      "Age 20\n",
      "Gender Male\n",
      "\n",
      "Account balance has been updated : $ 500\n",
      "Account balance has been updated : $ 485\n",
      "Insufficient Funds | Balance Available : $ 485\n",
      "\n",
      "Personal Details:\n",
      "Name Johan\n",
      "Age 20\n",
      "Gender Male\n",
      "\n",
      "Account balance: $ 485\n"
     ]
    }
   ],
   "source": [
    "#Parent Class\n",
    "class User():\n",
    "    def __init__(self,name,age,gender):\n",
    "        self.name = name\n",
    "        self.age = age\n",
    "        self.gender = gender\n",
    "    \n",
    "    def show_details(self):\n",
    "        print(\"\")\n",
    "        print(\"Personal Details:\")\n",
    "        #print(\"\")\n",
    "        print(\"Name\", self.name)\n",
    "        print(\"Age\", self.age)\n",
    "        print(\"Gender\", self.gender)\n",
    "        print(\"\")\n",
    "\n",
    "#Child Class\n",
    "class Bank(User):\n",
    "    def __init__(self, name, age, gender):\n",
    "        super().__init__(name, age, gender)\n",
    "        self.balance = 0\n",
    "    \n",
    "    def deposit (self, amount):\n",
    "        self.amount = amount\n",
    "        self.balance = self.balance + self.amount\n",
    "        print(\"Account balance has been updated : $\", self.balance)\n",
    "\n",
    "    def withdraw(self, amount):\n",
    "        self.amount = amount\n",
    "        if self.amount > self.balance:\n",
    "            print(\"Insufficient Funds | Balance Available : $\", self.balance)\n",
    "        else:\n",
    "            self.balance = self.balance - self.amount\n",
    "            print(\"Account balance has been updated : $\", self.balance)\n",
    "\n",
    "    def view_balance(self):\n",
    "        self.show_details()\n",
    "        print(\"Account balance: $\", self.balance)\n",
    "\n",
    "\n",
    "Johan = Bank('Johan', 20, 'Male')\n",
    "Johan.deposit(200)\n",
    "print(Johan.name)\n",
    "print(Johan.age)\n",
    "print(Johan.gender)\n",
    "print(Johan.balance)\n",
    "\n",
    "Johan.show_details() \n",
    "\n",
    "Johan.deposit(300)\n",
    "\n",
    "Johan.withdraw(15)\n",
    "Johan.withdraw(515)\n",
    "\n",
    "Johan.view_balance()"
   ]
  }
 ],
 "metadata": {
  "kernelspec": {
   "display_name": "course_vm",
   "language": "python",
   "name": "python3"
  },
  "language_info": {
   "codemirror_mode": {
    "name": "ipython",
    "version": 3
   },
   "file_extension": ".py",
   "mimetype": "text/x-python",
   "name": "python",
   "nbconvert_exporter": "python",
   "pygments_lexer": "ipython3",
   "version": "3.10.5"
  },
  "orig_nbformat": 4,
  "vscode": {
   "interpreter": {
    "hash": "5fc5177e68d6bf43903214f9e8cf52f33c8c161ef75640706b343c3008b420cb"
   }
  }
 },
 "nbformat": 4,
 "nbformat_minor": 2
}
